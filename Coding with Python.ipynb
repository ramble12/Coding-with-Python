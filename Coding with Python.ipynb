{
 "cells": [
  {
   "cell_type": "markdown",
   "metadata": {},
   "source": [
    "## Coding with Python \n",
    "\n",
    "By ramble12, 2/13/19, Geog 458: Advanced Digital Geographies\n",
    "\n",
    "Outside sources: https://ebookcentral-proquest-com.offcampus.lib.washington.edu/lib/washington/detail.action?docID=3238280\n",
    "\n",
    "https://interactivepython.org/courselib/static/thinkcspy/index.html\n",
    "\n",
    "https://stackoverflow.com/"
   ]
  },
  {
   "cell_type": "markdown",
   "metadata": {},
   "source": [
    "### Part 1 - Getting Started  "
   ]
  },
  {
   "cell_type": "markdown",
   "metadata": {},
   "source": [
    "#### Task 1\n",
    "I see that the [nyc_taxi](https://anaconda.org/jbednar/nyc_taxi/notebook) is an interesting Jupyter Notebook because of the fact that it shows how to plot large datasets in variety of ways that are practical and different customizations. It also has some interesting data shading techniques that highlights different values (and may be useful in GIS)."
   ]
  },
  {
   "cell_type": "markdown",
   "metadata": {},
   "source": [
    "#### Task 2  \n",
    "\n",
    "a) Some of the more popular Python packages/libraries that are available out there; [scrapy](https://scrapy.org/) (allows for web scrapping and extracting data from APIs and websites), [nose](https://pypi.org/project/nose/) (makes it easier for test-driven development), and [pyglet](https://pypi.org/project/pyglet/) (provides object-oriented programming (3-D) interface for developing games and other visual-rich applications).  \n",
    "\n",
    "b) The [plotnine](https://pypi.org/project/plotnine/) package allows you to compose data visualation plots in python, which is similar to ggplot2 in R.  \n",
    "\n",
    "c) The [pandas](https://pandas.pydata.org/) library uses dataframes in its data analysis.  "
   ]
  },
  {
   "cell_type": "markdown",
   "metadata": {},
   "source": [
    "#### Task 3  \n",
    "There are some differences between Python and R syntax (where I will list and describe three examples below).  \n",
    "\n",
    "One, while reading the data is straightforward and similar for both Python and R, the Boolean 'true/false' and 'none' values are written all upper-case letters for R. In Python, those values have only their first letter capitalized.\n",
    "\n",
    "Two, R needs to use brackets {} to wrap the function, but python does not seem to use brackets to do the same thing.\n",
    "\n",
    "Three, to call packages or libraries in R, you often use the install.packages('package name') function. In Python, you use the function, import 'package name', (and also import any submodules that you need with dot operator function, import 'package name'.'submodule'). It is also noted that Python has to import more packages to do the same functions that are already built in R."
   ]
  },
  {
   "cell_type": "markdown",
   "metadata": {},
   "source": [
    "### Part 2 – Strings and Basic Syntax  "
   ]
  },
  {
   "cell_type": "markdown",
   "metadata": {},
   "source": [
    "#### Task 4  \n"
   ]
  },
  {
   "cell_type": "code",
   "execution_count": 19,
   "metadata": {},
   "outputs": [
    {
     "name": "stdout",
     "output_type": "stream",
     "text": [
      "i love you\n"
     ]
    }
   ],
   "source": [
    "# our three character strings\n",
    ">>> x = \"i\" \n",
    ">>> y = \"love\"\n",
    ">>> z = \"you\"\n",
    "# printing out character strings in sentence\n",
    ">>> print x + \" \" + y + \" \" + z"
   ]
  },
  {
   "cell_type": "markdown",
   "metadata": {},
   "source": [
    "#### Task 5  "
   ]
  },
  {
   "cell_type": "code",
   "execution_count": 7,
   "metadata": {},
   "outputs": [
    {
     "name": "stdout",
     "output_type": "stream",
     "text": [
      "i love you 8\n",
      "I LOVE YOU 8\n"
     ]
    }
   ],
   "source": [
    "# our three character strings and integer\n",
    ">>> x = \"i\"\n",
    ">>> y = \"love\"\n",
    ">>> z = \"you\"\n",
    ">>> a = 8\n",
    "# printing out character strings in sentence (with integer as string)\n",
    ">>> print x + \" \" + y + \" \"+  z + \" \" + str(a)\n",
    "# printing out charcter strings in upper case sentence\n",
    ">>> print x.upper() + \" \" + y.upper() + \" \" + z.upper() + \" \" + str(a)"
   ]
  },
  {
   "cell_type": "markdown",
   "metadata": {},
   "source": [
    "#### Task 6  "
   ]
  },
  {
   "cell_type": "code",
   "execution_count": 31,
   "metadata": {},
   "outputs": [
    {
     "name": "stdout",
     "output_type": "stream",
     "text": [
      "i love you 8\n",
      "This is our index for first ou substring, 8\n"
     ]
    }
   ],
   "source": [
    "# sentence into list\n",
    ">>> list = ['i',  'love',  'you',  '8']\n",
    "# converting objects of list to be joined into one string (put into a variable and printed)\n",
    ">>> string = ' '.join(list)\n",
    ">>> print string\n",
    "# counting number of o's\n",
    ">>> string.count('o')\n",
    "# finds and prints out the first index of the substring in string\n",
    "index = string.find(\"ou\")\n",
    "print 'This is our index for first ou substring, ' + str(index)"
   ]
  },
  {
   "cell_type": "markdown",
   "metadata": {},
   "source": [
    "#### Task 7  "
   ]
  },
  {
   "cell_type": "code",
   "execution_count": 25,
   "metadata": {},
   "outputs": [
    {
     "name": "stdout",
     "output_type": "stream",
     "text": [
      "i love\n"
     ]
    }
   ],
   "source": [
    "# our string variable\n",
    ">>> string = \"i love you 8\"\n",
    "# printing out first half of the string\n",
    ">>> print string[0:6] "
   ]
  },
  {
   "cell_type": "markdown",
   "metadata": {},
   "source": [
    "#### Task 8  "
   ]
  },
  {
   "cell_type": "code",
   "execution_count": 33,
   "metadata": {},
   "outputs": [
    {
     "data": {
      "text/plain": [
       "'i hate you'"
      ]
     },
     "execution_count": 33,
     "metadata": {},
     "output_type": "execute_result"
    }
   ],
   "source": [
    "# our string variable\n",
    ">>> string = \"i love you 8\"\n",
    "# strip the number out into new variable string\n",
    ">>> string1 = string.strip(\" 8\")\n",
    "# replace one word with another into a new string\n",
    ">>> string1.replace(\"love\", \"hate\")"
   ]
  },
  {
   "cell_type": "markdown",
   "metadata": {},
   "source": [
    "#### Task 9  "
   ]
  },
  {
   "cell_type": "code",
   "execution_count": 43,
   "metadata": {},
   "outputs": [
    {
     "name": "stdout",
     "output_type": "stream",
     "text": [
      "['i', 'love', 'only', 'you', '8']\n"
     ]
    }
   ],
   "source": [
    "# our string variable\n",
    ">>> string = \"i love you 8\"\n",
    "# split string into list variable\n",
    ">>> list = string.split()\n",
    "# insert word in middle of list and print it\n",
    ">>> list.insert(2, \"only\")\n",
    ">>> print list"
   ]
  },
  {
   "cell_type": "markdown",
   "metadata": {},
   "source": [
    "### Part 3 - Conditionals  "
   ]
  },
  {
   "cell_type": "markdown",
   "metadata": {},
   "source": [
    "#### Task 10"
   ]
  },
  {
   "cell_type": "code",
   "execution_count": 48,
   "metadata": {},
   "outputs": [
    {
     "name": "stdout",
     "output_type": "stream",
     "text": [
      "80\n",
      "4th Quartile\n"
     ]
    }
   ],
   "source": [
    ">>> import random\n",
    "# chooses a number between 1 and 100\n",
    ">>> x = random.randint(1, 100)\n",
    "# prints out random number and if-else statements say which quartile it is\n",
    ">>> print x\n",
    ">>> if x <= 25:\n",
    "    print \"1st Quartile\"\n",
    ">>> elif 25 < x <= 50:\n",
    "    print \"2nd Quartile\"\n",
    ">>> elif 50 < x <= 75:\n",
    "    print \"3rd Quartile\"\n",
    ">>> elif 75 < x <= 100:\n",
    "    print \"4th Quartile\""
   ]
  },
  {
   "cell_type": "markdown",
   "metadata": {},
   "source": [
    "### Part 4 - Loops  "
   ]
  },
  {
   "cell_type": "markdown",
   "metadata": {},
   "source": [
    "#### Task 11  "
   ]
  },
  {
   "cell_type": "code",
   "execution_count": 71,
   "metadata": {},
   "outputs": [
    {
     "name": "stdout",
     "output_type": "stream",
     "text": [
      "Warning, residents of Seattle, temperatures will reach sub-zero temperatures today, please\n",
      "stay indoors if possible.\n",
      "Warning, residents of Bellevue, temperatures will reach sub-zero temperatures today,\n",
      "please stay indoors if possible.\n",
      "Warning, residents of Tacoma, temperatures will reach sub-zero temperatures today, please\n",
      "stay indoors if possible.\n",
      "Warning, residents of Renton, temperatures will reach sub-zero temperatures today, please\n",
      "stay indoors if possible.\n",
      "Warning, residents of Kirkland, temperatures will reach sub-zero temperatures today,\n",
      "please stay indoors if possible.\n",
      "Warning, residents of Federal Way, temperatures will reach sub-zero temperatures today,\n",
      "please stay indoors if possible.\n"
     ]
    }
   ],
   "source": [
    "# text wrap for looks\n",
    ">>> import textwrap\n",
    "# list of cities\n",
    "list = [\"Seattle\", \"Bellevue\", \"Tacoma\", \"Renton\", \"Kirkland\", \"Federal Way\"]\n",
    "# for loop and printing out statements for each city\n",
    "for CITY in list:\n",
    "    strs = \"Warning, residents of \" + CITY + \", temperatures will reach sub-zero temperatures today, please stay indoors if possible.\"\n",
    "    print(textwrap.fill(strs, 90))"
   ]
  },
  {
   "cell_type": "markdown",
   "metadata": {},
   "source": [
    "#### Task 12  "
   ]
  },
  {
   "cell_type": "code",
   "execution_count": 32,
   "metadata": {},
   "outputs": [
    {
     "data": {
      "text/plain": [
       "['U://Users/Zhang/Geog_458/Washington.shp',\n",
       " 'U://Users/Zhang/Geog_458/California.shp',\n",
       " 'U://Users/Zhang/Geog_458/Nevada.shp',\n",
       " 'U://Users/Zhang/Geog_458/Idaho.shp',\n",
       " 'U://Users/Zhang/Geog_458/Montana.shp',\n",
       " 'U://Users/Zhang/Geog_458/Utah.shp',\n",
       " 'U://Users/Zhang/Geog_458/Colorado.shp',\n",
       " 'U://Users/Zhang/Geog_458/New Mexico.shp']"
      ]
     },
     "execution_count": 32,
     "metadata": {},
     "output_type": "execute_result"
    }
   ],
   "source": [
    "# empty list\n",
    "list = []\n",
    "# state list\n",
    "states = [\"Washington\", \"California\", \"Nevada\", \"Idaho\", \"Montana\", \"Utah\", \"Colorado\", \"New Mexico\"]\n",
    "# adding state names into empty list\n",
    "# for loop and printing out shapefiles names for each state\n",
    "for index in range(len(states)):\n",
    "    list.append(\"U://Users/Zhang/Geog_458/\" + states[index] + \".shp\")\n",
    "# giving out list   \n",
    "list"
   ]
  },
  {
   "cell_type": "markdown",
   "metadata": {},
   "source": [
    "#### Task 13  "
   ]
  },
  {
   "cell_type": "code",
   "execution_count": 1,
   "metadata": {},
   "outputs": [
    {
     "name": "stdout",
     "output_type": "stream",
     "text": [
      "T-minus 10\n",
      "T-minus 9\n",
      "T-minus 8\n",
      "T-minus 7\n",
      "T-minus 6\n",
      "T-minus 5\n",
      "T-minus 4\n",
      "T-minus 3\n",
      "T-minus 2\n",
      "T-minus 1\n",
      "T-minus 0\n"
     ]
    }
   ],
   "source": [
    "# starts 10, till i is less than or equal to 0\n",
    "i = 10\n",
    "while i >= 0:\n",
    "    # COUNT is an variable and prints it out\n",
    "    COUNT = i\n",
    "    print \"T-minus\", COUNT\n",
    "    # subtracts by 1\n",
    "    i -= 1"
   ]
  },
  {
   "cell_type": "markdown",
   "metadata": {},
   "source": [
    "### Part 5 - Functions  "
   ]
  },
  {
   "cell_type": "markdown",
   "metadata": {},
   "source": [
    "#### Task 14  "
   ]
  },
  {
   "cell_type": "code",
   "execution_count": 13,
   "metadata": {},
   "outputs": [
    {
     "name": "stdout",
     "output_type": "stream",
     "text": [
      "T-minus 7\n",
      "T-minus 6\n",
      "T-minus 5\n",
      "T-minus 4\n",
      "T-minus 3\n",
      "T-minus 2\n",
      "T-minus 1\n",
      "T-minus 0\n"
     ]
    }
   ],
   "source": [
    "# countdown function\n",
    "def countdown(n):\n",
    "        while n >= 0:\n",
    "            # COUNT is an variable and prints it out\n",
    "            COUNT = n\n",
    "            print \"T-minus\", COUNT\n",
    "        # subtracts by 1\n",
    "            n -= 1\n",
    "# chosen number\n",
    "countdown (7)"
   ]
  },
  {
   "cell_type": "markdown",
   "metadata": {},
   "source": [
    "#### Task 15 "
   ]
  },
  {
   "cell_type": "code",
   "execution_count": 12,
   "metadata": {},
   "outputs": [
    {
     "name": "stdout",
     "output_type": "stream",
     "text": [
      "1st Quartile\n",
      "2nd Quartile\n",
      "4th Quartile\n",
      "Error, inserted number must be between 1 and 100.\n"
     ]
    }
   ],
   "source": [
    "# function for x value\n",
    "def quartile_calc(x):\n",
    "# if-else statements say which quartile it is\n",
    "    if x <= 25:\n",
    "        print \"1st Quartile\"\n",
    "    elif 25 < x <= 50:\n",
    "        print \"2nd Quartile\"\n",
    "    elif 50 < x <= 75:\n",
    "        print \"3rd Quartile\"\n",
    "    elif 75 < x <= 100:\n",
    "        print \"4th Quartile\"\n",
    "    else:\n",
    "        print \"Error, inserted number must be between 1 and 100.\"\n",
    "\n",
    "# few sample numbers\n",
    "quartile_calc(14)\n",
    "quartile_calc(50)\n",
    "quartile_calc(80)\n",
    "quartile_calc(101)"
   ]
  }
 ],
 "metadata": {
  "kernelspec": {
   "display_name": "Python 2",
   "language": "python",
   "name": "python2"
  },
  "language_info": {
   "codemirror_mode": {
    "name": "ipython",
    "version": 2
   },
   "file_extension": ".py",
   "mimetype": "text/x-python",
   "name": "python",
   "nbconvert_exporter": "python",
   "pygments_lexer": "ipython2",
   "version": "2.7.15"
  }
 },
 "nbformat": 4,
 "nbformat_minor": 2
}
